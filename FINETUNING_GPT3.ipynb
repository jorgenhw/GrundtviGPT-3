{
  "nbformat": 4,
  "nbformat_minor": 0,
  "metadata": {
    "colab": {
      "provenance": []
    },
    "kernelspec": {
      "name": "python3",
      "display_name": "Python 3"
    },
    "language_info": {
      "name": "python"
    },
    "accelerator": "GPU",
    "gpuClass": "standard"
  },
  "cells": [
    {
      "cell_type": "markdown",
      "source": [
        "## Imports"
      ],
      "metadata": {
        "id": "JkIHKzozAt74"
      }
    },
    {
      "cell_type": "code",
      "execution_count": 1,
      "metadata": {
        "id": "By1P-4qS5uou",
        "colab": {
          "base_uri": "https://localhost:8080/"
        },
        "outputId": "6b7626ca-6101-4f10-8f1b-dd8d79baf902"
      },
      "outputs": [
        {
          "output_type": "stream",
          "name": "stdout",
          "text": [
            "\u001b[?25l\r\u001b[K     |███████▎                        | 10 kB 25.9 MB/s eta 0:00:01\r\u001b[K     |██████████████▋                 | 20 kB 28.3 MB/s eta 0:00:01\r\u001b[K     |██████████████████████          | 30 kB 33.1 MB/s eta 0:00:01\r\u001b[K     |█████████████████████████████▏  | 40 kB 37.0 MB/s eta 0:00:01\r\u001b[K     |████████████████████████████████| 44 kB 2.2 MB/s \n",
            "\u001b[?25h  Installing build dependencies ... \u001b[?25l\u001b[?25hdone\n",
            "  Getting requirements to build wheel ... \u001b[?25l\u001b[?25hdone\n",
            "    Preparing wheel metadata ... \u001b[?25l\u001b[?25hdone\n",
            "\u001b[K     |████████████████████████████████| 147 kB 9.0 MB/s \n",
            "\u001b[?25h  Building wheel for openai (PEP 517) ... \u001b[?25l\u001b[?25hdone\n"
          ]
        }
      ],
      "source": [
        "!pip install --upgrade openai --quiet"
      ]
    },
    {
      "cell_type": "code",
      "source": [
        "!pip install openai --quiet"
      ],
      "metadata": {
        "id": "DC7UdmmLXVZ2"
      },
      "execution_count": 2,
      "outputs": []
    },
    {
      "cell_type": "markdown",
      "source": [
        "## API key"
      ],
      "metadata": {
        "id": "Awy-lNewAyny"
      }
    },
    {
      "cell_type": "code",
      "source": [
        "import openai\n",
        "import os\n",
        "\n",
        "os.environ[\"OPENAI_API_KEY\"]=(\"YOURAPI\")"
      ],
      "metadata": {
        "id": "LurupC9W5zoQ"
      },
      "execution_count": 3,
      "outputs": []
    },
    {
      "cell_type": "markdown",
      "source": [
        "# Data"
      ],
      "metadata": {
        "id": "YKVr0VDtTylH"
      }
    },
    {
      "cell_type": "markdown",
      "source": [
        "Loading data"
      ],
      "metadata": {
        "id": "sSGv2HF3X4wG"
      }
    },
    {
      "cell_type": "code",
      "source": [
        "import pandas as pd\n",
        "\n",
        "df = pd.read_csv(\"https://raw.githubusercontent.com/jorgenhw/random_data/main/sangtekster.csv\", sep = \";\")\n",
        "df = df.drop(\"ID\", axis = 1) # dropping original ID column (was incorrect)\n",
        "df['text'] = df['text'].str[4:] # deleting 4 first characters to remove first number from each song"
      ],
      "metadata": {
        "id": "Tg2WSdoTGTmU"
      },
      "execution_count": 1,
      "outputs": []
    },
    {
      "cell_type": "markdown",
      "source": [],
      "metadata": {
        "id": "FCkluDGWHyta"
      }
    },
    {
      "cell_type": "markdown",
      "source": [
        "Preprocessing"
      ],
      "metadata": {
        "id": "FJOzNXj3Gj_T"
      }
    },
    {
      "cell_type": "code",
      "source": [
        "# Function extracts the first characters of a song until the first number occurs (indicating the beginning og verse 2)\n",
        "def extract_until_number(s):\n",
        "    result = \"\"\n",
        "    for c in s:\n",
        "        if c.isnumeric():\n",
        "            break\n",
        "        result += c\n",
        "    return result\n",
        "\n",
        "\n",
        "# Apply the above function to the text column in the df\n",
        "df[\"prompt\"] = df[\"text\"].apply(extract_until_number)\n",
        "\n",
        "# Delete the extracted characters from the \"text\" column\n",
        "df[\"text\"] = df.apply(lambda row: row[\"text\"].replace(row[\"prompt\"], \"\"), axis=1)\n",
        "\n",
        "# rename\n",
        "df = df.rename(columns={\"text\": \"completion\"})\n",
        "\n",
        "# Reordering columns\n",
        "df = df.reindex(columns=['prompt', 'completion'])"
      ],
      "metadata": {
        "id": "_L_G1oeF8x0I"
      },
      "execution_count": 2,
      "outputs": []
    },
    {
      "cell_type": "markdown",
      "source": [
        "**Following songs are dropped from the dataset since we use the first verses from these as prompts**\n",
        "* 311 (yndigt at følges ad), \n",
        "* 170 (hvidt herude), \n",
        "* 136 (der er noget i luften), \n",
        "* 132 (vær velkommen),  \n",
        "* 301 (vem kan segla)\n",
        "* 220 (danmark nu blunder)\n",
        "* 140 (en rose så jeg skyde)\n",
        "* 62 (jens vejmand)\n",
        "* 305 (det var en lørdag aften)\n",
        "* 321 (dansevise)\n",
        "* 37 (amazing grace)\n",
        "\n",
        "NB: Number refers to index number, not actual song number"
      ],
      "metadata": {
        "id": "dUzpkxqMH8su"
      }
    },
    {
      "cell_type": "code",
      "source": [
        "songs = df.iloc[[311,170,136,132,301,220,140,62,305,321,37]]\n",
        "prompts = songs[\"prompt\"].tolist()\n",
        "\n",
        "df = df.drop([311, 170,136,132,301,220,140,62,305,321,37])"
      ],
      "metadata": {
        "id": "xRtR6uZTJqVP"
      },
      "execution_count": 3,
      "outputs": []
    },
    {
      "cell_type": "code",
      "source": [
        "df.shape"
      ],
      "metadata": {
        "colab": {
          "base_uri": "https://localhost:8080/"
        },
        "id": "LzRnfwJlfoYZ",
        "outputId": "6f8ea3f0-0237-4994-90e9-c410659c920d"
      },
      "execution_count": 5,
      "outputs": [
        {
          "output_type": "execute_result",
          "data": {
            "text/plain": [
              "(402, 2)"
            ]
          },
          "metadata": {},
          "execution_count": 5
        }
      ]
    },
    {
      "cell_type": "code",
      "source": [
        "# Writing file do drive\n",
        "df.to_csv(\"processed_data.csv\", index=False)\n",
        "path = \"/content/processed_data.csv\""
      ],
      "metadata": {
        "id": "UW0O51b-IMrI"
      },
      "execution_count": 89,
      "outputs": []
    },
    {
      "cell_type": "markdown",
      "source": [
        "Reformatting to jsonl\n"
      ],
      "metadata": {
        "id": "VJftXkxeX6hu"
      }
    },
    {
      "cell_type": "code",
      "source": [
        "# From OpenAI's own docu\n",
        "!openai tools fine_tunes.prepare_data -f $path"
      ],
      "metadata": {
        "colab": {
          "base_uri": "https://localhost:8080/"
        },
        "id": "oWEME0ukEb_7",
        "outputId": "8f1b307b-2ad9-4e49-aae7-3b1c7fbae8b8"
      },
      "execution_count": 90,
      "outputs": [
        {
          "output_type": "stream",
          "name": "stdout",
          "text": [
            "Analyzing...\n",
            "\n",
            "- Based on your file extension, your file is formatted as a CSV file\n",
            "- Your file contains 402 prompt-completion pairs\n",
            "- `completion` column/key should not contain empty strings. These are rows: [186]\n",
            "- There are 9 duplicated prompt-completion sets. These are rows: [95, 112, 149, 150, 168, 248, 276, 383, 397]\n",
            "- Your data does not contain a common separator at the end of your prompts. Having a separator string appended to the end of the prompt makes it clearer to the fine-tuned model where the completion should begin. See https://beta.openai.com/docs/guides/fine-tuning/preparing-your-dataset for more detail and examples. If you intend to do open-ended generation, then you should leave the prompts empty\n",
            "- All completions end with suffix `\\n`\n",
            "  WARNING: Some of your completions contain the suffix `\n",
            "` more than once. We suggest that you review your completions and add a unique ending\n",
            "- The completion should start with a whitespace character (` `). This tends to produce better results due to the tokenization we use. See https://beta.openai.com/docs/guides/fine-tuning/preparing-your-dataset for more details\n",
            "\n",
            "Based on the analysis we will perform the following actions:\n",
            "- [Necessary] Your format `CSV` will be converted to `JSONL`\n",
            "- [Necessary] Remove 1 rows with empty completions\n",
            "- [Recommended] Remove 9 duplicate rows [Y/n]: Y\n",
            "- [Recommended] Add a suffix separator `\\n\\n###\\n\\n` to all prompts [Y/n]: Y\n",
            "- [Recommended] Add a whitespace character to the beginning of the completion [Y/n]: Y\n",
            "\n",
            "\n",
            "Your data will be written to a new JSONL file. Proceed [Y/n]: Y\n",
            "\n",
            "Wrote modified file to `/content/processed_data_prepared (1).jsonl`\n",
            "Feel free to take a look!\n",
            "\n",
            "Now use that file when fine-tuning:\n",
            "> openai api fine_tunes.create -t \"/content/processed_data_prepared (1).jsonl\"\n",
            "\n",
            "After you’ve fine-tuned a model, remember that your prompt has to end with the indicator string `\\n\\n###\\n\\n` for the model to start generating completions, rather than continuing with the prompt. Make sure to include `stop=[\"\\n\"]` so that the generated texts ends at the expected place.\n",
            "Once your model starts training, it'll approximately take 17.53 minutes to train a `curie` model, and less for `ada` and `babbage`. Queue will approximately take half an hour per job ahead of you.\n"
          ]
        }
      ]
    },
    {
      "cell_type": "markdown",
      "source": [
        "## Create a fine-tuned model"
      ],
      "metadata": {
        "id": "VRASJvRCJUla"
      }
    },
    {
      "cell_type": "markdown",
      "source": [
        "The following assumes you've already prepared training data following the above instructions.\n",
        "\n",
        "Start your fine-tuning job using the OpenAI CLI:"
      ],
      "metadata": {
        "id": "q7YWUFgvJZWP"
      }
    },
    {
      "cell_type": "code",
      "source": [
        "train_file = \"/content/processed_data_prepared.jsonl\""
      ],
      "metadata": {
        "id": "-xePCiTibVZJ"
      },
      "execution_count": 95,
      "outputs": []
    },
    {
      "cell_type": "markdown",
      "source": [
        "### Hyperparameters"
      ],
      "metadata": {
        "id": "sBc2-wRcA6Zr"
      }
    },
    {
      "cell_type": "code",
      "source": [
        "model = 'davinci'  # can be ada, babbage, curie or davinci\n",
        "n_epochs = 4\n",
        "batch_size = 4\n",
        "learning_rate_multiplier = 0.1\n",
        "prompt_loss_weight = 0.1"
      ],
      "metadata": {
        "id": "UNstAk3cOhYB"
      },
      "execution_count": 96,
      "outputs": []
    },
    {
      "cell_type": "markdown",
      "source": [
        "### Training"
      ],
      "metadata": {
        "id": "mx5ZUOemX8O5"
      }
    },
    {
      "cell_type": "code",
      "source": [
        "!openai api fine_tunes.create \\\n",
        "    -t $train_file \\\n",
        "    -m $model \\\n",
        "    --n_epochs $n_epochs \\\n",
        "    --batch_size $batch_size \\\n",
        "    --learning_rate_multiplier $learning_rate_multiplier \\\n",
        "    --prompt_loss_weight $prompt_loss_weight"
      ],
      "metadata": {
        "colab": {
          "base_uri": "https://localhost:8080/"
        },
        "id": "M41b7BFSbOBN",
        "outputId": "5d59098c-079c-40ea-98e6-c961827d3d1a"
      },
      "execution_count": 97,
      "outputs": [
        {
          "output_type": "stream",
          "name": "stdout",
          "text": [
            "\rUpload progress:   0% 0.00/403k [00:00<?, ?it/s]\rUpload progress: 100% 403k/403k [00:00<00:00, 785Mit/s]\n",
            "Uploaded file from /content/processed_data_prepared.jsonl: file-qm5kNN8ibOkozvLdnmx7IAYW\n",
            "Created fine-tune: ft-qEzBbVEURqzI2svgwhbSd0UC\n",
            "Streaming events until fine-tuning is complete...\n",
            "\n",
            "(Ctrl-C will interrupt the stream, but not cancel the fine-tune)\n",
            "[2022-12-28 10:03:12] Created fine-tune: ft-qEzBbVEURqzI2svgwhbSd0UC\n",
            "[2022-12-28 10:04:31] Fine-tune costs $19.52\n",
            "[2022-12-28 10:04:31] Fine-tune enqueued. Queue number: 0\n",
            "[2022-12-28 10:04:33] Fine-tune started\n",
            "[2022-12-28 10:09:20] Completed epoch 1/4\n",
            "\n",
            "Stream interrupted (client disconnected).\n",
            "To resume the stream, run:\n",
            "\n",
            "  openai api fine_tunes.follow -i ft-qEzBbVEURqzI2svgwhbSd0UC\n",
            "\n"
          ]
        }
      ]
    },
    {
      "cell_type": "code",
      "source": [
        "!openai api fine_tunes.follow -i ft-qEzBbVEURqzI2svgwhbSd0UC"
      ],
      "metadata": {
        "colab": {
          "base_uri": "https://localhost:8080/"
        },
        "id": "oCquFib24txl",
        "outputId": "8185c3a6-0efa-48d6-ae6d-398e5d985f88"
      },
      "execution_count": 100,
      "outputs": [
        {
          "output_type": "stream",
          "name": "stdout",
          "text": [
            "[2022-12-28 10:03:12] Created fine-tune: ft-qEzBbVEURqzI2svgwhbSd0UC\n",
            "[2022-12-28 10:04:31] Fine-tune costs $19.52\n",
            "[2022-12-28 10:04:31] Fine-tune enqueued. Queue number: 0\n",
            "[2022-12-28 10:04:33] Fine-tune started\n",
            "[2022-12-28 10:09:20] Completed epoch 1/4\n",
            "[2022-12-28 10:12:06] Completed epoch 2/4\n",
            "[2022-12-28 10:14:51] Completed epoch 3/4\n",
            "[2022-12-28 10:17:34] Completed epoch 4/4\n",
            "[2022-12-28 10:18:18] Uploaded model: davinci:ft-aarhus-university-2022-12-28-10-18-17\n",
            "[2022-12-28 10:18:19] Uploaded result file: file-fjmIj2AlKlQik2UuUN9L7bZ2\n",
            "[2022-12-28 10:18:19] Fine-tune succeeded\n",
            "\n",
            "Job complete! Status: succeeded 🎉\n",
            "Try out your fine-tuned model:\n",
            "\n",
            "openai api completions.create -m davinci:ft-aarhus-university-2022-12-28-10-18-17 -p <YOUR_PROMPT>\n"
          ]
        }
      ]
    },
    {
      "cell_type": "markdown",
      "source": [
        "## Inferencing"
      ],
      "metadata": {
        "id": "O6svYNzcBB4X"
      }
    },
    {
      "cell_type": "code",
      "source": [
        "import os\n",
        "import openai\n",
        "\n",
        "def open_file(filepath):\n",
        "  with open(filepath, 'r', encoding='utf-8') as infile:\n",
        "    return infile.read()\n",
        "# API key\n",
        "openai.api_key = open_file(\"/content/openaiAPI.txt\")\n",
        "\n",
        "def gpt3(prompt):\n",
        "  response = openai.Completion.create(\n",
        "  model=\"davinci:ft-aarhus-university-2022-12-28-10-18-17\",\n",
        "  prompt=prompt,\n",
        "  #stop = \"\\n\",\n",
        "  temperature=0.7,\n",
        "  max_tokens=180,\n",
        "  top_p=1,\n",
        "  frequency_penalty=0,\n",
        "  presence_penalty=0\n",
        "  )\n",
        "  text = response['choices'][0]['text'].strip()\n",
        "  return text"
      ],
      "metadata": {
        "id": "GTuk7cXl6jjv"
      },
      "execution_count": 161,
      "outputs": []
    },
    {
      "cell_type": "code",
      "source": [
        "prompts"
      ],
      "metadata": {
        "colab": {
          "base_uri": "https://localhost:8080/"
        },
        "id": "GBQbBb5gXREj",
        "outputId": "4a4c1ceb-9921-46a1-8fb3-6509413c2504"
      },
      "execution_count": 139,
      "outputs": [
        {
          "output_type": "execute_result",
          "data": {
            "text/plain": [
              "['Det er så yndigt at følges ad for to, som gerne vil sammen være, da er med glæden man dobbelt glad og halvt om sorgen så tung at bære; ja, det er gammen //: at rejse sammen, :// når fjederhammen //: er kærlighed. ://\\n',\n",
              " 'Det er hvidt herude,kyndelmisse slår sin knudeovermåde hvas og hård,hvidt forneden, hvidt foroven,pudret tykt står træ i skovensom udi min abildgård.\\n',\n",
              " 'Der er noget i luften, jeg ved ikke hvad,som forår, skønt skoven har mistet hvert blad.Der er noget i luften, som rosernes duften,som fuglenes fryd,skønt rosen er falmet, og fuglen er draget mod syd.\\n',\n",
              " 'Vær velkommen, Herrens år,og velkommen herhid!Julenat, da vor Herre blev fød,da tændte sig lyset i mørkets skød.Velkommen, nytår, og velkommen her!\\n',\n",
              " 'Vem kan segla förutan vind?Vem kan ro utan åror?Vem kan skiljas från vännen sinutan att fälla tårar?\\n',\n",
              " 'Danmark, nu blunder den lyse natbag ved din seng, når du sover.Gøgen kukker i skov og krat,Vesterhavet og Kattegatsynger, imens det dugger,sagte som sang ved vugger.\\n',\n",
              " \"En rose så jeg skydeop af den frosne jord,alt som os fordum spå'deprofetens trøsteord.Den rose spired fremmidt i den kolde vinterom nat ved Betlehem.\\n\",\n",
              " 'Hvem sidder dér bag skærmenmed klude om sin hånd,med læderlap for øjetog om sin sko et bånd?Det er såmænd Jens vejmand,der af sin sure nødmed hamren må forvandlede hårde sten til brød.\\n',\n",
              " '//: Det var en lørdag aften, jeg sad og vented dig, - :// //: du loved mig at komme vist, men kom dog ej til mig! ://\\n',\n",
              " 'Et solstrejf i en vandpyt,et lille kindkys af en vindog sivet, der nynner,at livet begyndersit spind i dit sind.\\nEt sølvõøjt fra en trætop,en svag tagfat-lyd af en kat,en rislen i bækken,en hvislen i hækken,der si’r, at det ikke mer’ er nat.\\nDugvåd ligger engen,jomfru Daggry går til ro.Dagen står Puk-kåd ud af sengenog går over solens bro.\\nOg os to?Hvad med os to?Ja, hvad med os to dig og mig?Jeg danser og danser og standserog sanser kun dig.Hvorfor løb du dog din vej?\\nKom igen, kom igen,kom igen du min elskede ven.Kom igen, kom igen.Hvor du ønsker det, danser vi hen.\\nKom, lad os danse,alt kan der ske.Kom, lad os danse,lad os danse, lad os le.\\n',\n",
              " \"Amazing grace how sweet the soundThat saved a wretch like me!I once was lost, but now I'm found,Was blind but now I see.\\n\"]"
            ]
          },
          "metadata": {},
          "execution_count": 139
        }
      ]
    },
    {
      "cell_type": "code",
      "source": [
        "gpt3(prompts[10])"
      ],
      "metadata": {
        "colab": {
          "base_uri": "https://localhost:8080/",
          "height": 104
        },
        "id": "cgY-k9YVQI0b",
        "outputId": "5ebef805-2246-4f4b-8c83-505710c5445b"
      },
      "execution_count": 178,
      "outputs": [
        {
          "output_type": "execute_result",
          "data": {
            "text/plain": [
              "\"2. 'Twas grace that taught my heart to fear,And grace my fears relieved;How precious did that grace appearThe hour I first believed.\\n\\n3. Through many dangers, toils and snaresI have already come;'Tis grace hath brought me safe thus far,And grace will lead me home.\\n\\n4. The Lord has promised good to me,His word my hope secures;He will my shield and portion beAs long as life endures.\\n\\n5. Yea, when this flesh and heart shall fail,And mortal life shall cease,I shall possess, within the veil,A life of joy and peace.\\n\\n6. The earth shall soon dissolve like snow,The sun forbear to shine;But God, who called me here below,Will be forever mine.\\n\\n7. When we've been there\""
            ],
            "application/vnd.google.colaboratory.intrinsic+json": {
              "type": "string"
            }
          },
          "metadata": {},
          "execution_count": 178
        }
      ]
    },
    {
      "cell_type": "code",
      "source": [
        "prompts"
      ],
      "metadata": {
        "colab": {
          "base_uri": "https://localhost:8080/"
        },
        "id": "KRtKrI11xJH_",
        "outputId": "ae8cc690-95b5-4c34-8b3a-9879576e7171"
      },
      "execution_count": 176,
      "outputs": [
        {
          "output_type": "execute_result",
          "data": {
            "text/plain": [
              "['Det er så yndigt at følges ad for to, som gerne vil sammen være, da er med glæden man dobbelt glad og halvt om sorgen så tung at bære; ja, det er gammen //: at rejse sammen, :// når fjederhammen //: er kærlighed. ://\\n',\n",
              " 'Det er hvidt herude,kyndelmisse slår sin knudeovermåde hvas og hård,hvidt forneden, hvidt foroven,pudret tykt står træ i skovensom udi min abildgård.\\n',\n",
              " 'Der er noget i luften, jeg ved ikke hvad,som forår, skønt skoven har mistet hvert blad.Der er noget i luften, som rosernes duften,som fuglenes fryd,skønt rosen er falmet, og fuglen er draget mod syd.\\n',\n",
              " 'Vær velkommen, Herrens år,og velkommen herhid!Julenat, da vor Herre blev fød,da tændte sig lyset i mørkets skød.Velkommen, nytår, og velkommen her!\\n',\n",
              " 'Vem kan segla förutan vind?Vem kan ro utan åror?Vem kan skiljas från vännen sinutan att fälla tårar?\\n',\n",
              " 'Danmark, nu blunder den lyse natbag ved din seng, når du sover.Gøgen kukker i skov og krat,Vesterhavet og Kattegatsynger, imens det dugger,sagte som sang ved vugger.\\n',\n",
              " \"En rose så jeg skydeop af den frosne jord,alt som os fordum spå'deprofetens trøsteord.Den rose spired fremmidt i den kolde vinterom nat ved Betlehem.\\n\",\n",
              " 'Hvem sidder dér bag skærmenmed klude om sin hånd,med læderlap for øjetog om sin sko et bånd?Det er såmænd Jens vejmand,der af sin sure nødmed hamren må forvandlede hårde sten til brød.\\n',\n",
              " '//: Det var en lørdag aften, jeg sad og vented dig, - :// //: du loved mig at komme vist, men kom dog ej til mig! ://\\n',\n",
              " 'Et solstrejf i en vandpyt,et lille kindkys af en vindog sivet, der nynner,at livet begyndersit spind i dit sind.\\nEt sølvõøjt fra en trætop,en svag tagfat-lyd af en kat,en rislen i bækken,en hvislen i hækken,der si’r, at det ikke mer’ er nat.\\nDugvåd ligger engen,jomfru Daggry går til ro.Dagen står Puk-kåd ud af sengenog går over solens bro.\\nOg os to?Hvad med os to?Ja, hvad med os to dig og mig?Jeg danser og danser og standserog sanser kun dig.Hvorfor løb du dog din vej?\\nKom igen, kom igen,kom igen du min elskede ven.Kom igen, kom igen.Hvor du ønsker det, danser vi hen.\\nKom, lad os danse,alt kan der ske.Kom, lad os danse,lad os danse, lad os le.\\n',\n",
              " \"Amazing grace how sweet the soundThat saved a wretch like me!I once was lost, but now I'm found,Was blind but now I see.\\n\"]"
            ]
          },
          "metadata": {},
          "execution_count": 176
        }
      ]
    },
    {
      "cell_type": "code",
      "source": [
        "for i in prompts:\n",
        "  print(gpt3(i))\n",
        "\n",
        "#gpt3(prompts[0])"
      ],
      "metadata": {
        "colab": {
          "base_uri": "https://localhost:8080/"
        },
        "id": "kheCvRNsPpCK",
        "outputId": "13435364-8bca-4962-b15f-d75d7445185b"
      },
      "execution_count": 134,
      "outputs": [
        {
          "output_type": "stream",
          "name": "stdout",
          "text": [
            "3 Det er så yndigt at følges ad for to, da lyses det lille ud af mørket i vor hjerte bag lås og bom, hvor følelser //: ligger gemt. :// Og det er så yndigt at følges ad for to, at milde ens hede sammen uden at brænde af.\n",
            "4 Men se, det er syndigt, at følges ad for to, hvis ikke kærligheden blomstrer i os og er stedet, hvor følelserne //: ligger gemt. :// Ja, se, det er syndigt, //: at rejse sammen, :// når fjederhammen //: er kærlighed. ://\n",
            "5 Ja, se, det er syndigt, at følges ad for to, når ejendomme skiller os fra hinanden, og vort hjerte bag lås og bom er fangernes fæ\n",
            "###\n",
            "\n",
            " 2. Hvidt er kornet og hvidt er byg,hvidt er svinene på gården,hvidt er høet i agerneog hvidt er jeg, som haver vågenhvisker til dig, min ven:3. Hvad er nu dette for et land,hvor det ikke er et blad til skue,kun en klæbende sne,kun en svedig kulde,kun et kornet korn i dit håndtegned ud på hjemvejen!4. Hvad er nu dette for et land,hvor der ikke er et blad at se,kun en snærende kulde,kun en klæbende sne,kun en svedig kulde,kun et kornet korn i dit håndtegned ud på hjemvejen!5. Hvad er nu dette for et land,hvor der ikke er et blad at se,kun en klæbende sne,\n",
            "###\n",
            "\n",
            " 2. Der er noget i luften, jeg ved ikke hvad,som blomsten i haver, når den løsner sit hav.Der er noget i luften, som bøgen på højden,der aldrig har grønnet, men træerne gror på sin sky.3. Der er noget i luften, jeg ved ikke hvad,som aftenens stjerner, når de kysses af måne.Der er noget i luften, som solens stærke stråler,som drømmenes blå,når vi drømmer om dig, skønt du er langt borte fra mig.4. Der er noget i luften, jeg ved ikke hvad,som fuglenes sange, når de kanter de kroge.Der er noget i luften, som daggryet på stranden,når solen er\n",
            "###\n",
            "\n",
            " 2. Vær velkommen, Herrens år,og velkommen herhid!Hjerte til hjerte da skal komme sammen,så det kan synge: \"Gud velsigne ham!\"Velkommen, nytår, og velkommen her!3. Vær velkommen, Herrens år,og velkommen herhid!Vor verden er mørk, men Guds rige er lys,der ligger glæden og lykken og vår.Velkommen, nytår, og velkommen her!4. Vær velkommen, Herrens år,og velkommen herhid!Nye tider er kommet og gået,men ét blir altid: Gud godt og vis.Velkommen, nytår, og velkommen her!5. Vær velkommen, Herrens år,og velkommen herhid!Fø\n",
            "Vem kan gråta utan tårar?Vem kan drömma utan drömmar?Vem kan springa utan ben?Vem kan älska utan kärlek?\n",
            "\n",
            "Vem kan stöta bort vännen sinutan att förtvivlas?Vem kan älska utan kärlek?Vem kan byta sitt hjärta?Vem kan skiljas från vännen sinutan att fälla tårar?\n",
            "\n",
            "Vem kan gråta utan tårar?Vem kan drömma utan drömmar?Vem kan springa utan ben?Vem kan älska utan kärlek?\n",
            "\n",
            "Vem kan stöta bort vännen sinutan att förtvivlas?Vem kan älska utan kärlek?Vem kan byta sitt hjärta?Vem kan skiljas från vännen sinutan att fälla tårar?\n",
            " Vem kan grå\n",
            "###\n",
            "\n",
            " 2. Danmark, nu løfter natten sine vinger,dækker dig med sin stjernehimmel, når du sover.Danske børn, nu lægges i dynge,deres mødre strømmer til kirke,når det dugger,sagte som sang ved vugger.3. Danmark, nu lurer det sorte korsforan døren, når du sover.Folket, nu står det og vugger,siddende på hænder og fødder,når det dugger,sagte som sang ved vugger.4. Danmark, nu svæver det sorte korsforan døren, når du sover.Freden er knækket. Hvor blir den af?Dræberfolkene står på lur,når det dugger,sagte som sang ved vugger.5. Danmark, nu svæver det sorte korsforan d\n",
            "###\n",
            "\n",
            " 2. Jeg, som er din fader,har skabt dig, jeg har skabt,jeg har skabt dig i min glæde,jeg har skabt dig i min smerte.Bort du mig har født,bort du mig har født,lad nu hvert barn og hvert sortkvæg føde en fremmed som dig!3. Jeg var et sortkvæg,du var spændt i et sæde,men en dag du mig fødte,og jeg fødte dig til gave.Du var en sort kvæg,jeg en sort mand er,lad det sorte kvæg føde en sort mand!4. En rose så jeg skydeop af den frosne jord,alt som os fordum spå'deprofetens trøsteord.Den rose spired fremmidt i den kolde vinterom nat ved Betlehem.\n",
            "5. Jeg kyssed din fod,jeg kyssed din mund,jeg kyssed d\n",
            "###\n",
            "\n",
            " 2. Han er som alle andremed kløe i sine fingreog en enøje, der ikkevil holde sig oppe,og han har et lille barn,som er blevet syg i hovedet,og det gør ham stærkt sørgeligt,thi det er hans eneste nød.3. Og han har en hund, som ersyg og sengeliggendesom i en krøbling,og som han må give bajonet,thi den er så svag,at den knap nok kan gå,og han har en kone, som ersyg og sengeliggendesom i en krøbling.4. Og han har en skovl, som ersyg og sengeliggendesom i en krøbling,og han har en skæppemaler,som er syg i hovedet,og han har en malerhue,som er syg i hovedet,og han har en kammer\n",
            "//: Alt det jeg elsked er nu, det er endnu en gang omme. :// //: Ja, jeg har så mangen gang sat mig ned og tænkt på dig. ://\n",
            "//: Jeg har så mangen gang set klokken gå fra to til tre, - :// //: men kom dog ej til mig, kom dog ej til mig. :// //: Det er så let at være slem, men så svært at være god, :// //: men kom dog ej til mig, kom dog ej til mig! :// //: Jeg har så mangen gang set klokken gå fra to til tre, - :// //: men kom dog ej til mig, kom dog ej til mig. ://\n",
            "//: Det var en lørdag aften, jeg sad og vented dig, - :// //: du loved mig at komme vist, men kom dog ej til mig! ://\n",
            " //: Jeg har så mangen gang set k\n",
            "Kom, lad os danse,alt kan der ske.Kom, lad os danse,lad os danse, lad os le.\n",
            "Kom, lad os danse,alt kan der ske.Kom, lad os danse,lad os danse, lad os le.\n",
            "Kom, lad os danse,alt kan der ske.Kom, lad os danse,lad os danse, lad os le.\n",
            "Kom, lad os danse,alt kan der ske.Kom, lad os danse,lad os danse, lad os le.\n",
            "Kom, lad os danse,alt kan der ske.Kom, lad os danse,lad os danse, lad os le.\n",
            "Kom, lad os danse,alt kan der ske.Kom, lad os danse,lad os danse, lad os le.\n",
            "Kom, lad os danse,alt kan der ske.Kom, lad os danse,lad os danse, lad os le.\n",
            "Kom, lad os danse,alt kan der ske.Kom, lad os danse,lad os danse, lad os le.\n",
            "Kom, lad os danse,\n",
            "2. 'Twas grace that taught my heart to fear,And grace my fears relieved;How precious did that grace appear,The hour I first believed!\n",
            "\n",
            "3. Through many dangers, toils and snares,I have already come;'Tis grace has brought me safe thus far,And grace will lead me home.\n",
            "\n",
            "4. The Lord has promised good to me,His word my hope secures;He will my shield and portion be,As long as life endures.\n",
            "\n",
            "5. Yea, when this flesh and heart shall fail,And mortal life shall cease,I shall possess, within the veil,A life of joy and peace.\n",
            "\n",
            "6. The earth shall soon dissolve like snow,The sun forbear to shine;But God, whose grace hath brought me through,Shall be forever mine.\n",
            "\n",
            "7. What heights of love, what depths of woe,Thro' all the years of time,Have reached, and passed, the heart of woe,A wretch's humble rhyme!\n",
            "\n",
            "8. But grace has brought me safe thus far,And grace will lead me home.The Lord has promised good to me,His word my hope secures.\n"
          ]
        }
      ]
    },
    {
      "cell_type": "code",
      "source": [],
      "metadata": {
        "id": "iOcTQ6mCUCTN"
      },
      "execution_count": null,
      "outputs": []
    }
  ]
}
